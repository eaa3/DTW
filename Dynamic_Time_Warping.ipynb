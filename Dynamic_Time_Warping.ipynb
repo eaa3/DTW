{
 "cells": [
  {
   "cell_type": "markdown",
   "metadata": {},
   "source": [
    "# Dynamic Time Warping\n",
    "\n",
    "Based on:\n",
    "http://nipunbatra.github.io/2014/07/dtw/\n"
   ]
  },
  {
   "cell_type": "code",
   "execution_count": 1,
   "metadata": {
    "collapsed": true
   },
   "outputs": [],
   "source": [
    "import numpy\n",
    "import matplotlib.pyplot as plt\n",
    "import matplotlib \n",
    "%matplotlib inline\n",
    "import ctypes"
   ]
  },
  {
   "cell_type": "code",
   "execution_count": 2,
   "metadata": {
    "collapsed": false
   },
   "outputs": [
    {
     "name": "stdout",
     "output_type": "stream",
     "text": [
      "Overwriting dtw_python.c\n"
     ]
    }
   ],
   "source": [
    "%%file dtw_python.c\n",
    "\n",
    "#include <stdlib.h>\n",
    "#include <stdio.h>\n",
    "#include <math.h>\n",
    "#include <string.h> // only for the memcpy\n",
    "#include <errno.h>\n",
    "\n",
    "/*\n",
    "    Note: \n",
    "    Using ctypes, numpy arrays always look like a vector in C, not a matrix (even if the numpy array IS a matrix)\n",
    "    The reason is that numpy matrices are always arrays also inside numpy :)    \n",
    "*/\n",
    "\n",
    "float path_cost(int len_x, int len_y, float *accumulated_cost, float *distances);\n",
    "void generates_accumulated_cost(int len_x, int len_y, float *accumulated_cost, float *distances);\n",
    "void generates_distances(int len_x, int len_y, int dim, float *distances, float *x, float *y);\n",
    "void returns_path(int *output, int size);\n",
    "\n",
    "int *path = NULL;\n",
    "int path_counter = 0;\n",
    "\n",
    "\n",
    "int returns_path_length(){\n",
    "    return path_counter;\n",
    "}\n",
    "\n",
    "void returns_path(int *output, int size){\n",
    "    memcpy(output,path,2*sizeof(int)*size);\n",
    "    free(path);\n",
    "    path = NULL;\n",
    "}\n",
    "\n",
    "float path_cost(int len_x, int len_y, float *accumulated_cost, float *distances)\n",
    "{\n",
    "    int i = len_x-1;\n",
    "    int j = len_y-1;\n",
    "    int n_malloc_i = 1;\n",
    "    float min_value = 0;\n",
    "    float cost = 0;\n",
    "\n",
    "    path_counter = 0;\n",
    "    \n",
    "    if (path == NULL)\n",
    "    {\n",
    "        path = malloc(100*2*sizeof(int));\n",
    "        if (path==NULL)\n",
    "            return EXIT_FAILURE;\n",
    "    }\n",
    "    else\n",
    "    {\n",
    "        free(path);\n",
    "        path = NULL;\n",
    "        path = malloc(100*2*sizeof(int));\n",
    "        if (path==NULL)\n",
    "            return EXIT_FAILURE;        \n",
    "    }\n",
    "    \n",
    "    *path = i;\n",
    "    *(path+1) = j;\n",
    "    path_counter++;\n",
    "    \n",
    "    while((i>0)||(j>0))\n",
    "    {        \n",
    "        if(i==0)\n",
    "            j = j - 1;\n",
    "        else if(j==0)\n",
    "            i = i - 1;\n",
    "        else\n",
    "        {\n",
    "            // Calculates the min value\n",
    "            if (*(accumulated_cost+((i-1)*len_y)+(j-1))>*(accumulated_cost+((i-1)*len_y)+j))\n",
    "                min_value = *(accumulated_cost+len_y*(i-1)+j);\n",
    "            else if (*(accumulated_cost+((i-1)*len_y)+(j-1))>*(accumulated_cost+(i*len_y)+(j-1)))\n",
    "                min_value = *(accumulated_cost+(i*len_y)+(j-1));\n",
    "            else\n",
    "                min_value = *(accumulated_cost+((i-1)*len_y)+(j-1));\n",
    "\n",
    "            // Calculates the next step based on the min value\n",
    "            if (*(accumulated_cost+len_y*(i-1)+j) == min_value)\n",
    "                i = i - 1;\n",
    "            else if (*(accumulated_cost+len_y*i+(j-1)) == min_value)\n",
    "                j = j - 1;\n",
    "            else\n",
    "            {\n",
    "                i = i - 1;\n",
    "                j = j - 1;\n",
    "            }\n",
    "        }\n",
    "                         \n",
    "        if (((float)path_counter/n_malloc_i)<2*100)\n",
    "        {\n",
    "            *(path+path_counter*2)=i;\n",
    "            *(path+path_counter*2+1)=j;\n",
    "            path_counter++;\n",
    "        }\n",
    "        else\n",
    "        {\n",
    "            n_malloc_i++;\n",
    "            path = realloc(path,n_malloc_i*100*2*sizeof(int));\n",
    "            \n",
    "            if (path==NULL)\n",
    "                return EXIT_FAILURE;            \n",
    "            \n",
    "            *(path+path_counter*2)=i;\n",
    "            *(path+path_counter*2+1)=j;\n",
    "            path_counter++;\n",
    "        }\n",
    "    }\n",
    "    for (int i=0; i<path_counter; i++)\n",
    "    {\n",
    "        const int x = *(path+i*2);\n",
    "        const int y = *(path+i*2+1);        \n",
    "        cost = cost + *(distances+len_y*x+y);\n",
    "    }\n",
    "                         \n",
    "    return cost;\n",
    "}\n",
    "\n",
    "\n",
    "void generates_accumulated_cost(int len_x, int len_y, float *accumulated_cost, float *distances)\n",
    "{\n",
    "    float min_value = 0;\n",
    "    \n",
    "    *(accumulated_cost)= *(distances);\n",
    "    \n",
    "    for (int i=1; i<len_y; i++)\n",
    "        *(accumulated_cost+i) = *(distances+i) + *(accumulated_cost+i-1);\n",
    "    \n",
    "    for (int j=1; j<len_x; j++)\n",
    "        *(accumulated_cost+(j*len_y)) = *(distances+(j*len_y)) + *(accumulated_cost+((j-1)*len_y));    \n",
    "\n",
    "    for (int i=1; i<len_x; i++)\n",
    "    {\n",
    "        for (int j=1; j<len_y; j++)\n",
    "        {\n",
    "            // Calculates the min value\n",
    "            if (*(accumulated_cost+((i-1)*len_y)+(j-1))>*(accumulated_cost+((i-1)*len_y)+j))\n",
    "                min_value = *(accumulated_cost+len_y*(i-1)+j);\n",
    "            else if (*(accumulated_cost+((i-1)*len_y)+(j-1))>*(accumulated_cost+(i*len_y)+(j-1)))\n",
    "                min_value = *(accumulated_cost+(i*len_y)+(j-1));\n",
    "            else\n",
    "                min_value = *(accumulated_cost+((i-1)*len_y)+(j-1));\n",
    "\n",
    "            *(accumulated_cost+(i*len_y)+j)= min_value + *(distances+(i*len_y)+j);\n",
    "        }\n",
    "        \n",
    "    }\n",
    "}\n",
    "\n",
    "void generates_distances(int len_x, int len_y, int dim, float *distances, float *x, float *y)\n",
    "{\n",
    "    for (int i=0; i<len_x; i++)\n",
    "    {\n",
    "        for (int j=0; j<len_y; j++)\n",
    "        {\n",
    "            *(distances+(i*len_y)+j) = 0; //initialises\n",
    "            \n",
    "            //printf(\"i,j: %d %d\\n\",i,j);\n",
    "            \n",
    "            if (dim>1)\n",
    "                for (int d=0; d<dim; d++)\n",
    "                {\n",
    "                    *(distances+(i*len_y)+j) += pow(*(x+(i*dim)+d)-*(y+(j*dim)+d),2);\n",
    "                }\n",
    "            else\n",
    "                *(distances+(i*len_y)+j) += pow(*(x+i)-*(y+j),2);\n",
    "            \n",
    "            *(distances+(i*len_y)+j) = sqrt(*(distances+(i*len_y)+j));\n",
    "            \n",
    "            //printf(\"(i*len_y),j: %d %d\\n\",(i*len_y),j);\n",
    "        }\n",
    "    }\n",
    "}\n"
   ]
  },
  {
   "cell_type": "code",
   "execution_count": 3,
   "metadata": {
    "collapsed": false
   },
   "outputs": [],
   "source": [
    "# In Linux it's necessary to add these: -lrt -lm\n",
    "!gcc -shared -Wl,-install_name,dtw_python.so -o dtw_python.so -fPIC dtw_python.c -O3 -std=gnu99 -Wall -ffast-math -mtune=native "
   ]
  },
  {
   "cell_type": "code",
   "execution_count": 4,
   "metadata": {
    "collapsed": false
   },
   "outputs": [],
   "source": [
    "DTW=ctypes.CDLL(\"./dtw_python.so\")\n",
    "\n",
    "# void generates_distances(int len_x, int len_y, int dim, float *distances, float *x, float *y)\n",
    "generates_distances = DTW.generates_distances\n",
    "generates_distances.restype = None\n",
    "generates_distances.argtypes = [\n",
    "    ctypes.c_int32,\n",
    "    ctypes.c_int32,\n",
    "    ctypes.c_int32,\n",
    "    numpy.ctypeslib.ndpointer(dtype=numpy.float32, flags='ALIGNED,C_CONTIGUOUS'),\n",
    "    numpy.ctypeslib.ndpointer(dtype=numpy.float32, flags='ALIGNED,C_CONTIGUOUS'),\n",
    "    numpy.ctypeslib.ndpointer(dtype=numpy.float32, flags='ALIGNED,C_CONTIGUOUS')]\n",
    "\n",
    "def distances_matrix(x,y):\n",
    "\n",
    "    assert len(x.shape)==len(y.shape), \"Inputs must have the same number of columns\"\n",
    "    \n",
    "    if len(x.shape)==1:\n",
    "        dim = ctypes.c_int32(1)\n",
    "    else:\n",
    "        dim = ctypes.c_int32(x.shape[1])\n",
    "    \n",
    "    len_x = ctypes.c_int32(x.shape[0])\n",
    "    len_y = ctypes.c_int32(y.shape[0]) \n",
    "    \n",
    "    distances = numpy.empty((x.shape[0],y.shape[0]),dtype=numpy.float32)\n",
    "    \n",
    "    \n",
    "    generates_distances(len_x, len_y, dim, distances, x.astype(dtype=numpy.float32), y.astype(dtype=numpy.float32))\n",
    "    \n",
    "    return distances#.reshape((x.shape[0],y.shape[0]))\n",
    "\n",
    "# void generates_accumulated_cost(int len_x, int len_y, float *accumulated_cost, float *distances)\n",
    "generates_accumulated_cost = DTW.generates_accumulated_cost\n",
    "generates_accumulated_cost.restype = None\n",
    "generates_accumulated_cost.argtypes = [\n",
    "    ctypes.c_int32,\n",
    "    ctypes.c_int32,\n",
    "    numpy.ctypeslib.ndpointer(dtype=numpy.float32, flags='ALIGNED,C_CONTIGUOUS'),\n",
    "    numpy.ctypeslib.ndpointer(dtype=numpy.float32, flags='ALIGNED,C_CONTIGUOUS')]\n",
    "\n",
    "def accumulated_cost_matrix(x,y,distances):\n",
    "    len_x = ctypes.c_int32(x.shape[0])\n",
    "    len_y = ctypes.c_int32(y.shape[0]) \n",
    "    accumulated_cost = numpy.empty((x.shape[0],y.shape[0]),dtype=numpy.float32)\n",
    "    \n",
    "    generates_accumulated_cost(len_x, len_y, accumulated_cost, distances)\n",
    "    \n",
    "    return accumulated_cost\n",
    "\n",
    "# float path_cost(int len_x, int len_y, float *accumulated_cost, float *distances)\n",
    "path_cost = DTW.path_cost\n",
    "path_cost.restype = ctypes.c_float\n",
    "path_cost.argtypes = [\n",
    "    ctypes.c_int32,\n",
    "    ctypes.c_int32,\n",
    "    numpy.ctypeslib.ndpointer(dtype=numpy.float32, flags='ALIGNED,C_CONTIGUOUS'),\n",
    "    numpy.ctypeslib.ndpointer(dtype=numpy.float32, flags='ALIGNED,C_CONTIGUOUS')]\n",
    "\n",
    "# int returns_path_length()\n",
    "returns_path_length = DTW.returns_path_length\n",
    "returns_path_length.restype = ctypes.c_int32\n",
    "returns_path_length.argtypes = []\n",
    "\n",
    "# void returns_path(int *output, int size)\n",
    "returns_path = DTW.returns_path\n",
    "returns_path.restype = None\n",
    "returns_path.argtypes = [\n",
    "    numpy.ctypeslib.ndpointer(dtype=numpy.int32, flags='ALIGNED,C_CONTIGUOUS'),\n",
    "    ctypes.c_int32]\n",
    "\n",
    "\n",
    "def path_cost_calculation(x,y,distances,accumulated_cost):\n",
    "    len_x = ctypes.c_int32(x.shape[0])\n",
    "    len_y = ctypes.c_int32(y.shape[0]) \n",
    "    \n",
    "    cost = path_cost(len_x, len_y, accumulated_cost, distances)\n",
    "\n",
    "    path_length = returns_path_length()\n",
    "    \n",
    "    path = numpy.empty((path_length,2),dtype=numpy.int32)\n",
    "    \n",
    "    returns_path(path, path_length)\n",
    "    \n",
    "    return path,cost"
   ]
  },
  {
   "cell_type": "code",
   "execution_count": 5,
   "metadata": {
    "collapsed": true
   },
   "outputs": [],
   "source": [
    "def distance_cost_plot(distances):\n",
    "    distances=distances.T\n",
    "    plt.figure(figsize =(10,10))\n",
    "    im = plt.imshow(distances, interpolation='nearest', cmap='Reds') \n",
    "    plt.gca().invert_yaxis()\n",
    "    plt.ylabel(\"y\")\n",
    "    plt.xlabel(\"x\")\n",
    "    plt.xticks(range(distances.shape[1]),range(distances.shape[1]))\n",
    "    plt.yticks(range(distances.shape[0]),range(distances.shape[0]))\n",
    "    plt.grid()\n",
    "    plt.colorbar();"
   ]
  },
  {
   "cell_type": "code",
   "execution_count": 6,
   "metadata": {
    "collapsed": true
   },
   "outputs": [],
   "source": [
    "def path_cost_p(x, y, accumulated_cost, distances):\n",
    "    \n",
    "    path = [[len(x)-1, len(y)-1]]\n",
    "    \n",
    "    cost = 0\n",
    "    \n",
    "    i = len(x)-1\n",
    "    j = len(y)-1\n",
    "    \n",
    "    while i>0 or j>0:\n",
    "        if i==0:\n",
    "            j = j - 1\n",
    "        elif j==0:\n",
    "            i = i - 1\n",
    "        else:\n",
    "            if accumulated_cost[i-1, j] == min(accumulated_cost[i-1, j-1], accumulated_cost[i-1, j], accumulated_cost[i, j-1]):\n",
    "                i = i - 1\n",
    "            elif accumulated_cost[i, j-1] == min(accumulated_cost[i-1, j-1], accumulated_cost[i-1, j], accumulated_cost[i, j-1]):\n",
    "                j = j - 1\n",
    "            else:\n",
    "                i = i - 1\n",
    "                j = j - 1\n",
    "        path.append([i, j])\n",
    "    for [x, y] in path:\n",
    "        cost = cost +distances[x, y]\n",
    "    return path, cost"
   ]
  },
  {
   "cell_type": "code",
   "execution_count": 7,
   "metadata": {
    "collapsed": true
   },
   "outputs": [],
   "source": [
    "def generates_accumulated_cost_p(x,y,distances):\n",
    "    accumulated_cost = numpy.zeros((len(x), len(y)))\n",
    "    \n",
    "    accumulated_cost[0,0] = distances[0,0]\n",
    "    \n",
    "    for i in range(1, len(x)):\n",
    "        accumulated_cost[i,0] = distances[i, 0] + accumulated_cost[i-1, 0]\n",
    "\n",
    "    for j in range(1, len(y)):\n",
    "        accumulated_cost[0,j] = distances[0,j] + accumulated_cost[0, j-1]\n",
    "        \n",
    "    for i in range(1, len(x)):\n",
    "        for j in range(1, len(y)):\n",
    "            accumulated_cost[i, j] = min(accumulated_cost[i-1, j-1], accumulated_cost[i-1, j], accumulated_cost[i, j-1]) + distances[i, j]\n",
    "            \n",
    "    return accumulated_cost"
   ]
  },
  {
   "cell_type": "code",
   "execution_count": 8,
   "metadata": {
    "collapsed": true
   },
   "outputs": [],
   "source": [
    "def generates_distances2D(x,y):\n",
    "    '''\n",
    "    Generates the distance matrix used with Dynamic Time Warping\n",
    "    '''\n",
    "    # Creates the helper matrix\n",
    "    helper_matrix=numpy.ones((y.shape[0],x.shape[0]))\n",
    "\n",
    "    # Generates (y.shape[0]) copies of each value in original_drawing\n",
    "    x_all=(x[:,0]*helper_matrix)\n",
    "    y_all=(x[:,1]*helper_matrix)\n",
    "\n",
    "    # returns all the distances between original points and generated ones\n",
    "    return (numpy.sqrt((x_all.T-y[:,0])**2+(y_all.T-y[:,1])**2))"
   ]
  },
  {
   "cell_type": "code",
   "execution_count": 9,
   "metadata": {
    "collapsed": true
   },
   "outputs": [],
   "source": [
    "def generates_distances3D(x,y):\n",
    "    '''\n",
    "    Generates the distance matrix used with Dynamic Time Warping\n",
    "    '''\n",
    "    # Creates the helper matrix\n",
    "    helper_matrix=numpy.ones((y.shape[0],x.shape[0]))\n",
    "\n",
    "    # Generates (y.shape[0]) copies of each value in original_drawing\n",
    "    x_all=(x[:,0]*helper_matrix)\n",
    "    y_all=(x[:,1]*helper_matrix)\n",
    "    z_all=(x[:,2]*helper_matrix)\n",
    "\n",
    "    # returns all the distances between original points and generated ones\n",
    "    return (numpy.sqrt((x_all.T-y[:,0])**2+(y_all.T-y[:,1])**2+(z_all.T-y[:,2])**2))"
   ]
  },
  {
   "cell_type": "code",
   "execution_count": 10,
   "metadata": {
    "collapsed": true
   },
   "outputs": [],
   "source": [
    "def generates_distances_N(x,y):\n",
    "    '''\n",
    "    Generates the distance matrix used with Dynamic Time Warping \n",
    "    => for systems with N dimensions\n",
    "    '''\n",
    "    assert len(x.shape)==len(y.shape), \"Inputs must have the same number of columns\"\n",
    "    \n",
    "    if len(x.shape)==1:\n",
    "        x=x.reshape((x.shape[0],1))\n",
    "        y=y.reshape((y.shape[0],1))\n",
    "    \n",
    "    assert x.shape[1]==y.shape[1], \"Inputs must have the same number of columns\" # verifies if the second dimension matches\n",
    "    # Creates the helper matrix\n",
    "    helper_matrix=numpy.ones((y.shape[0],x.shape[0]))\n",
    "\n",
    "    # returns all the distances between original points and generated ones\n",
    "    return (numpy.sqrt(numpy.array([((x[:,i]*helper_matrix).T-y[:,i])**2 for i in range(x.shape[1])]).sum(axis=0)))"
   ]
  },
  {
   "cell_type": "code",
   "execution_count": 11,
   "metadata": {
    "collapsed": false
   },
   "outputs": [
    {
     "name": "stdout",
     "output_type": "stream",
     "text": [
      "[[ 0.  0.  0.  0.]\n",
      " [ 1.  1.  1.  1.]\n",
      " [ 2.  2.  2.  2.]\n",
      " [ 3.  3.  3.  3.]\n",
      " [ 4.  4.  4.  4.]]\n"
     ]
    },
    {
     "data": {
      "image/png": "[encoded data removed]",
      "text/plain": [
       "<matplotlib.figure.Figure at 0x107240f50>"
      ]
     },
     "metadata": {},
     "output_type": "display_data"
    }
   ],
   "source": [
    "x = numpy.array([0,1,2,3,4])\n",
    "y = numpy.zeros(4)\n",
    "\n",
    "dist=generates_distances_N(x,y)\n",
    "print dist\n",
    "distance_cost_plot(dist)"
   ]
  },
  {
   "cell_type": "code",
   "execution_count": 12,
   "metadata": {
    "collapsed": false
   },
   "outputs": [
    {
     "name": "stdout",
     "output_type": "stream",
     "text": [
      "[[ 0.  0.  0.  0.]\n",
      " [ 1.  1.  1.  1.]\n",
      " [ 2.  2.  2.  2.]\n",
      " [ 3.  3.  3.  3.]\n",
      " [ 4.  4.  4.  4.]]\n"
     ]
    },
    {
     "data": {
      "image/png": "[encoded data removed]",
      "text/plain": [
       "<matplotlib.figure.Figure at 0x10739a310>"
      ]
     },
     "metadata": {},
     "output_type": "display_data"
    }
   ],
   "source": [
    "dist=distances_matrix(x,y)\n",
    "print dist\n",
    "distance_cost_plot(dist)"
   ]
  },
  {
   "cell_type": "code",
   "execution_count": 13,
   "metadata": {
    "collapsed": false
   },
   "outputs": [
    {
     "name": "stdout",
     "output_type": "stream",
     "text": [
      "[[ 0.  1.  2.  3.]\n",
      " [ 0.  1.  2.  3.]\n",
      " [ 0.  1.  2.  3.]]\n"
     ]
    },
    {
     "data": {
      "image/png": "[encoded data removed]",
      "text/plain": [
       "<matplotlib.figure.Figure at 0x10780c310>"
      ]
     },
     "metadata": {},
     "output_type": "display_data"
    }
   ],
   "source": [
    "x = numpy.zeros(3)\n",
    "y = numpy.array([0,1,2,3])\n",
    "\n",
    "dist=generates_distances_N(x,y)\n",
    "print dist\n",
    "distance_cost_plot(dist)"
   ]
  },
  {
   "cell_type": "code",
   "execution_count": 14,
   "metadata": {
    "collapsed": false
   },
   "outputs": [
    {
     "name": "stdout",
     "output_type": "stream",
     "text": [
      "[[ 0.  1.  2.  3.]\n",
      " [ 0.  1.  2.  3.]\n",
      " [ 0.  1.  2.  3.]]\n"
     ]
    },
    {
     "data": {
      "image/png": "[encoded data removed]",
      "text/plain": [
       "<matplotlib.figure.Figure at 0x10785f8d0>"
      ]
     },
     "metadata": {},
     "output_type": "display_data"
    }
   ],
   "source": [
    "dist=distances_matrix(x,y)\n",
    "print dist\n",
    "distance_cost_plot(dist)"
   ]
  },
  {
   "cell_type": "code",
   "execution_count": 15,
   "metadata": {
    "collapsed": false
   },
   "outputs": [
    {
     "name": "stdout",
     "output_type": "stream",
     "text": [
      "[[ 1.  0.  1.]\n",
      " [ 0.  1.  0.]\n",
      " [ 0.  1.  0.]]\n"
     ]
    },
    {
     "data": {
      "image/png": "[encoded data removed]",
      "text/plain": [
       "<matplotlib.figure.Figure at 0x10720af50>"
      ]
     },
     "metadata": {},
     "output_type": "display_data"
    }
   ],
   "source": [
    "x = numpy.zeros((3,4))\n",
    "y = numpy.zeros((3,4))\n",
    "\n",
    "x[0,:]=[1,0,0,0]\n",
    "\n",
    "y[1,:]=[1,0,0,0]\n",
    "\n",
    "dist=generates_distances_N(x,y)\n",
    "print dist\n",
    "distance_cost_plot(dist)"
   ]
  },
  {
   "cell_type": "code",
   "execution_count": 16,
   "metadata": {
    "collapsed": false
   },
   "outputs": [
    {
     "name": "stdout",
     "output_type": "stream",
     "text": [
      "[[ 1.  0.  1.]\n",
      " [ 0.  1.  0.]\n",
      " [ 0.  1.  0.]]\n"
     ]
    },
    {
     "data": {
      "image/png": "[encoded data removed]",
      "text/plain": [
       "<matplotlib.figure.Figure at 0x107790890>"
      ]
     },
     "metadata": {},
     "output_type": "display_data"
    }
   ],
   "source": [
    "dist=distances_matrix(x,y)\n",
    "print dist\n",
    "distance_cost_plot(dist)"
   ]
  },
  {
   "cell_type": "code",
   "execution_count": 17,
   "metadata": {
    "collapsed": false
   },
   "outputs": [
    {
     "name": "stdout",
     "output_type": "stream",
     "text": [
      "[[ 1.          1.41421356  1.        ]\n",
      " [ 0.          1.          0.        ]\n",
      " [ 0.          1.          0.        ]]\n"
     ]
    },
    {
     "data": {
      "image/png": "[encoded data removed]",
      "text/plain": [
       "<matplotlib.figure.Figure at 0x10787f4d0>"
      ]
     },
     "metadata": {},
     "output_type": "display_data"
    }
   ],
   "source": [
    "x = numpy.zeros((3,4))\n",
    "y = numpy.zeros((3,4))\n",
    "\n",
    "x[0,:]=[0,1,0,0]\n",
    "\n",
    "y[1,:]=[1,0,0,0]\n",
    "\n",
    "dist=generates_distances_N(x,y)\n",
    "print dist\n",
    "distance_cost_plot(dist)"
   ]
  },
  {
   "cell_type": "code",
   "execution_count": 18,
   "metadata": {
    "collapsed": false
   },
   "outputs": [
    {
     "name": "stdout",
     "output_type": "stream",
     "text": [
      "[[ 1.          1.41421354  1.        ]\n",
      " [ 0.          1.          0.        ]\n",
      " [ 0.          1.          0.        ]]\n"
     ]
    },
    {
     "data": {
      "image/png": "[encoded data removed]",
      "text/plain": [
       "<matplotlib.figure.Figure at 0x1078a5410>"
      ]
     },
     "metadata": {},
     "output_type": "display_data"
    }
   ],
   "source": [
    "dist=distances_matrix(x,y)\n",
    "print dist\n",
    "distance_cost_plot(dist)"
   ]
  },
  {
   "cell_type": "code",
   "execution_count": 19,
   "metadata": {
    "collapsed": true
   },
   "outputs": [],
   "source": [
    "x = numpy.random.rand(300,4)\n",
    "y = numpy.random.rand(500,4)"
   ]
  },
  {
   "cell_type": "code",
   "execution_count": 20,
   "metadata": {
    "collapsed": false
   },
   "outputs": [
    {
     "name": "stdout",
     "output_type": "stream",
     "text": [
      "CPU times: user 5.03 ms, sys: 2.37 ms, total: 7.4 ms\n",
      "Wall time: 6.53 ms\n"
     ]
    }
   ],
   "source": [
    "%%time\n",
    "dist=generates_distances_N(x,y)"
   ]
  },
  {
   "cell_type": "code",
   "execution_count": 22,
   "metadata": {
    "collapsed": false
   },
   "outputs": [
    {
     "name": "stdout",
     "output_type": "stream",
     "text": [
      "CPU times: user 1.42 ms, sys: 541 µs, total: 1.96 ms\n",
      "Wall time: 1.33 ms\n"
     ]
    }
   ],
   "source": [
    "%%time\n",
    "dist=distances_matrix(x,y)"
   ]
  },
  {
   "cell_type": "code",
   "execution_count": 24,
   "metadata": {
    "collapsed": true
   },
   "outputs": [],
   "source": [
    "x = numpy.random.rand(3000,3)\n",
    "y = numpy.random.rand(5000,3)"
   ]
  },
  {
   "cell_type": "code",
   "execution_count": 25,
   "metadata": {
    "collapsed": false
   },
   "outputs": [
    {
     "name": "stdout",
     "output_type": "stream",
     "text": [
      "CPU times: user 913 ms, sys: 404 ms, total: 1.32 s\n",
      "Wall time: 1.32 s\n"
     ]
    }
   ],
   "source": [
    "%%time\n",
    "dist=generates_distances_N(x,y)"
   ]
  },
  {
   "cell_type": "code",
   "execution_count": 26,
   "metadata": {
    "collapsed": false
   },
   "outputs": [
    {
     "name": "stdout",
     "output_type": "stream",
     "text": [
      "CPU times: user 403 ms, sys: 286 ms, total: 690 ms\n",
      "Wall time: 689 ms\n"
     ]
    }
   ],
   "source": [
    "%%time\n",
    "dist=generates_distances3D(x,y)"
   ]
  },
  {
   "cell_type": "code",
   "execution_count": 27,
   "metadata": {
    "collapsed": false
   },
   "outputs": [
    {
     "name": "stdout",
     "output_type": "stream",
     "text": [
      "CPU times: user 81.7 ms, sys: 15.8 ms, total: 97.5 ms\n",
      "Wall time: 97 ms\n"
     ]
    }
   ],
   "source": [
    "%%time\n",
    "dist=distances_matrix(x,y)"
   ]
  },
  {
   "cell_type": "code",
   "execution_count": 28,
   "metadata": {
    "collapsed": true
   },
   "outputs": [],
   "source": [
    "x = numpy.random.rand(3000,2)\n",
    "y = numpy.random.rand(5000,2)"
   ]
  },
  {
   "cell_type": "code",
   "execution_count": 29,
   "metadata": {
    "collapsed": false
   },
   "outputs": [
    {
     "name": "stdout",
     "output_type": "stream",
     "text": [
      "CPU times: user 646 ms, sys: 242 ms, total: 888 ms\n",
      "Wall time: 887 ms\n"
     ]
    }
   ],
   "source": [
    "%%time\n",
    "dist=generates_distances_N(x,y)"
   ]
  },
  {
   "cell_type": "code",
   "execution_count": 30,
   "metadata": {
    "collapsed": false
   },
   "outputs": [
    {
     "name": "stdout",
     "output_type": "stream",
     "text": [
      "CPU times: user 260 ms, sys: 151 ms, total: 411 ms\n",
      "Wall time: 410 ms\n"
     ]
    }
   ],
   "source": [
    "%%time\n",
    "dist=generates_distances2D(x,y)"
   ]
  },
  {
   "cell_type": "code",
   "execution_count": 31,
   "metadata": {
    "collapsed": false
   },
   "outputs": [
    {
     "name": "stdout",
     "output_type": "stream",
     "text": [
      "CPU times: user 58.6 ms, sys: 16.7 ms, total: 75.3 ms\n",
      "Wall time: 74.9 ms\n"
     ]
    }
   ],
   "source": [
    "%%time\n",
    "dist=distances_matrix(x,y)"
   ]
  },
  {
   "cell_type": "code",
   "execution_count": 54,
   "metadata": {
    "collapsed": false
   },
   "outputs": [
    {
     "data": {
      "image/png": "[encoded data removed]",
      "text/plain": [
       "<matplotlib.figure.Figure at 0x10727ad10>"
      ]
     },
     "metadata": {},
     "output_type": "display_data"
    }
   ],
   "source": [
    "x = numpy.random.rand(15,2)\n",
    "y = numpy.random.rand(10,2)\n",
    "\n",
    "x[numpy.random.randint(1,10),:]=[0,1]\n",
    "\n",
    "y[numpy.random.randint(1,10),:]=[1,0]\n",
    "\n",
    "dist=generates_distances_N(x,y)\n",
    "# print dist\n",
    "distance_cost_plot(dist)"
   ]
  },
  {
   "cell_type": "code",
   "execution_count": 63,
   "metadata": {
    "collapsed": false
   },
   "outputs": [
    {
     "name": "stdout",
     "output_type": "stream",
     "text": [
      "CPU times: user 61 µs, sys: 7 µs, total: 68 µs\n",
      "Wall time: 64.1 µs\n"
     ]
    }
   ],
   "source": [
    "%%time\n",
    "dist=generates_distances2D(x,y)"
   ]
  },
  {
   "cell_type": "code",
   "execution_count": 64,
   "metadata": {
    "collapsed": false
   },
   "outputs": [
    {
     "name": "stdout",
     "output_type": "stream",
     "text": [
      "CPU times: user 176 µs, sys: 67 µs, total: 243 µs\n",
      "Wall time: 198 µs\n"
     ]
    }
   ],
   "source": [
    "%%time\n",
    "accumulated_cost=generates_accumulated_cost_p(x,y,dist)"
   ]
  },
  {
   "cell_type": "code",
   "execution_count": 65,
   "metadata": {
    "collapsed": false
   },
   "outputs": [
    {
     "name": "stdout",
     "output_type": "stream",
     "text": [
      "6.45074471397\n",
      "CPU times: user 102 µs, sys: 19 µs, total: 121 µs\n",
      "Wall time: 111 µs\n"
     ]
    }
   ],
   "source": [
    "%%time\n",
    "path,cost = path_cost_p(x, y, accumulated_cost, dist)\n",
    "path=numpy.array(path)\n",
    "print cost"
   ]
  },
  {
   "cell_type": "code",
   "execution_count": 66,
   "metadata": {
    "collapsed": false
   },
   "outputs": [
    {
     "data": {
      "image/png": "[encoded data removed]",
      "text/plain": [
       "<matplotlib.figure.Figure at 0x107a05390>"
      ]
     },
     "metadata": {},
     "output_type": "display_data"
    }
   ],
   "source": [
    "distance_cost_plot(accumulated_cost)\n",
    "plt.plot(path[:,0],path[:,1],'o-')\n",
    "plt.show()"
   ]
  },
  {
   "cell_type": "code",
   "execution_count": 67,
   "metadata": {
    "collapsed": false
   },
   "outputs": [
    {
     "name": "stdout",
     "output_type": "stream",
     "text": [
      "CPU times: user 75 µs, sys: 8 µs, total: 83 µs\n",
      "Wall time: 78.2 µs\n"
     ]
    }
   ],
   "source": [
    "%%time\n",
    "dist=distances_matrix(x,y)"
   ]
  },
  {
   "cell_type": "code",
   "execution_count": 68,
   "metadata": {
    "collapsed": false
   },
   "outputs": [
    {
     "name": "stdout",
     "output_type": "stream",
     "text": [
      "CPU times: user 59 µs, sys: 9 µs, total: 68 µs\n",
      "Wall time: 63.9 µs\n"
     ]
    }
   ],
   "source": [
    "%%time\n",
    "accumulated_cost=accumulated_cost_matrix(x,y,dist)"
   ]
  },
  {
   "cell_type": "code",
   "execution_count": 69,
   "metadata": {
    "collapsed": false
   },
   "outputs": [
    {
     "name": "stdout",
     "output_type": "stream",
     "text": [
      "6.45074462891\n",
      "CPU times: user 117 µs, sys: 37 µs, total: 154 µs\n",
      "Wall time: 130 µs\n"
     ]
    }
   ],
   "source": [
    "%%time\n",
    "path,cost = path_cost_calculation(x,y,dist,accumulated_cost)\n",
    "print cost"
   ]
  },
  {
   "cell_type": "code",
   "execution_count": 70,
   "metadata": {
    "collapsed": false
   },
   "outputs": [
    {
     "data": {
      "image/png": "[encoded data removed]",
      "text/plain": [
       "<matplotlib.figure.Figure at 0x107790650>"
      ]
     },
     "metadata": {},
     "output_type": "display_data"
    }
   ],
   "source": [
    "distance_cost_plot(accumulated_cost)\n",
    "plt.plot(path[:,0],path[:,1],'o-')\n",
    "plt.show()"
   ]
  },
  {
   "cell_type": "code",
   "execution_count": null,
   "metadata": {
    "collapsed": true
   },
   "outputs": [],
   "source": []
  }
 ],
 "metadata": {
  "kernelspec": {
   "display_name": "Python 2",
   "language": "python",
   "name": "python2"
  },
  "language_info": {
   "codemirror_mode": {
    "name": "ipython",
    "version": 2
   },
   "file_extension": ".py",
   "mimetype": "text/x-python",
   "name": "python",
   "nbconvert_exporter": "python",
   "pygments_lexer": "ipython2",
   "version": "2.7.10"
  }
 },
 "nbformat": 4,
 "nbformat_minor": 0
}
